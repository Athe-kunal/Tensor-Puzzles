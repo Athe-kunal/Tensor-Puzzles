{
  "nbformat": 4,
  "nbformat_minor": 0,
  "metadata": {
    "colab": {
      "name": "Tensor Puzzles.ipynb",
      "provenance": [],
      "collapsed_sections": [],
      "authorship_tag": "ABX9TyN0blWQRH2RtLhS1L1SKMX8",
      "include_colab_link": true
    },
    "kernelspec": {
      "name": "python3",
      "display_name": "Python 3"
    },
    "language_info": {
      "name": "python"
    }
  },
  "cells": [
    {
      "cell_type": "markdown",
      "metadata": {
        "id": "view-in-github",
        "colab_type": "text"
      },
      "source": [
        "<a href=\"https://colab.research.google.com/github/srush/tensor_puzzles/blob/main/Tensor_Puzzles.ipynb\" target=\"_parent\"><img src=\"https://colab.research.google.com/assets/colab-badge.svg\" alt=\"Open In Colab\"/></a>"
      ]
    },
    {
      "cell_type": "code",
      "source": [
        "!pip install torchtyping hypothesis"
      ],
      "metadata": {
        "id": "I64nYLFVX9nC"
      },
      "execution_count": null,
      "outputs": []
    },
    {
      "cell_type": "code",
      "source": [
        "import typing \n",
        "from torchtyping import TensorType\n",
        "from hypothesis.extra.numpy import arrays\n",
        "from hypothesis.strategies import integers, tuples, composite, floats\n",
        "from hypothesis import given\n",
        "import numpy as np\n",
        "import torch\n",
        "\n",
        "size = integers(min_value=1, max_value=5)\n",
        "tensor = torch.tensor\n",
        "\n",
        "numpy_to_torch_dtype_dict = {\n",
        "        bool       : torch.bool,\n",
        "        np.uint8      : torch.uint8,\n",
        "        np.int8       : torch.int8,\n",
        "        np.int16      : torch.int16,\n",
        "        np.int32      : torch.int32,\n",
        "        np.int64      : torch.int64,\n",
        "        np.float16    : torch.float16,\n",
        "        np.float32    : torch.float32,\n",
        "        np.float64    : torch.float64,\n",
        "        np.complex64  : torch.complex64,\n",
        "        np.complex128 : torch.complex128\n",
        "    }\n",
        "torch_to_numpy_dtype_dict = {v:k for k, v in numpy_to_torch_dtype_dict.items()}\n",
        "    \n",
        "@composite\n",
        "def spec(draw, x):\n",
        "    \n",
        "    names = set()\n",
        "    gth = typing.get_type_hints(x)\n",
        "    for k in gth:\n",
        "        names.update(gth[k].__metadata__[0][\"details\"][0].dims)\n",
        "    names = list(names)\n",
        "    arr = draw(tuples(*[size for _ in range(len(names))]))\n",
        "    sizes = dict(zip(names, arr))\n",
        "    ret = {}\n",
        "    for k in gth:\n",
        "        shape = tuple([sizes[d] for d in gth[k].__metadata__[0][\"details\"][0].dims])\n",
        "        ret[k] = draw(arrays(shape=shape, \n",
        "                             dtype=torch_to_numpy_dtype_dict[gth[k].__metadata__[0][\"details\"][1].dtype] if len(gth[k].__metadata__[0][\"details\"]) >= 2 else int,\n",
        "                             ))\n",
        "        ret[k][ret[k] > 1000] = 1000\n",
        "        ret[k][ret[k] < -1000] = -1000\n",
        "        ret[k] = np.nan_to_num(ret[k], nan=0, neginf=0, posinf=0)\n",
        "    ret[\"return\"][:] = 0 \n",
        "    return ret\n",
        "\n",
        "def make_test(problem, problem_spec):\n",
        "    @given(spec(problem))\n",
        "    def test_problem(d):\n",
        "        out = d[\"return\"].tolist()\n",
        "        del d[\"return\"]\n",
        "        problem_spec(*d.values(), out)\n",
        "        out2 = problem(*map(tensor, d.values()))\n",
        "        torch.testing.assert_allclose(out2, tensor(out))\n",
        "    return test_problem"
      ],
      "metadata": {
        "id": "cj_oOMxOYAU-"
      },
      "execution_count": null,
      "outputs": []
    },
    {
      "cell_type": "markdown",
      "source": [
        "# Tensor Puzzles\n",
        "\n",
        "A collection of puzzles for learning about tensors and broadcasting. "
      ],
      "metadata": {
        "id": "F3XeUUGCX4vI"
      }
    },
    {
      "cell_type": "markdown",
      "source": [
        "## Puzzle 0\n",
        "\n",
        "Compute the sum of a vector $\\sum_i a_i$ in a batch."
      ],
      "metadata": {
        "id": "D1-KvVuXZW0Z"
      }
    },
    {
      "cell_type": "code",
      "source": [
        "def problem0_spec(a, out):\n",
        "    for i in range(len(out)):\n",
        "        out[i] = 0\n",
        "        for j in range(len(a[0])):\n",
        "            out[i] += a[i][j]"
      ],
      "metadata": {
        "id": "g6XP6rJLZWax"
      },
      "execution_count": null,
      "outputs": []
    },
    {
      "cell_type": "code",
      "source": [
        "def problem0(a:TensorType[\"i\", \"j\"]\n",
        "             )->TensorType[\"i\"]:\n",
        "    return a.sum(1)\n",
        "\n",
        "make_test(problem0, problem0_spec)()"
      ],
      "metadata": {
        "id": "1Y2vnl-XZQag"
      },
      "execution_count": null,
      "outputs": []
    },
    {
      "cell_type": "markdown",
      "source": [
        "## Puzzle 1\n",
        "\n",
        "Compute the outer-product $a b^\\top$ of a batch of vectors. "
      ],
      "metadata": {
        "id": "xBKfb4KsYsn2"
      }
    },
    {
      "cell_type": "code",
      "source": [
        "def problem1_spec(a, b, out):\n",
        "    for i in range(len(out)):\n",
        "        for j in range(len(out[0])):\n",
        "            for k in range(len(out[0][0])):\n",
        "                out[i][j][k] = a[i][j] * b[i][k]"
      ],
      "metadata": {
        "id": "sRHtzmi309Js"
      },
      "execution_count": null,
      "outputs": []
    },
    {
      "cell_type": "code",
      "source": [
        "def problem1(a:TensorType[\"i\", \"j\"], \n",
        "             b:TensorType[\"i\", \"k\"]\n",
        "             )->TensorType[\"i\", \"j\", \"k\"]:\n",
        "    return a[:, :, None] * b[:, None, :] \n",
        "\n",
        "make_test(problem1, problem1_spec)()"
      ],
      "metadata": {
        "id": "pOrQaPKsYzII"
      },
      "execution_count": null,
      "outputs": []
    },
    {
      "cell_type": "markdown",
      "source": [
        "## Puzzle 2\n",
        "\n"
      ],
      "metadata": {
        "id": "LABTy4VHaMyj"
      }
    },
    {
      "cell_type": "markdown",
      "source": [
        "Compute the sum of arbitrarily grouped values. "
      ],
      "metadata": {
        "id": "33PMDSlTmiq6"
      }
    },
    {
      "cell_type": "code",
      "source": [
        "def problem2_spec(groups, values, out):\n",
        "    j = -1\n",
        "    for i in range(len(groups)):\n",
        "        if not groups[i]:\n",
        "            out[j] += values[i]\n",
        "        else:\n",
        "            j += 1 \n",
        "            out[j] = values[i]\n"
      ],
      "metadata": {
        "id": "-DsZHgOTroVN"
      },
      "execution_count": null,
      "outputs": []
    },
    {
      "cell_type": "code",
      "source": [
        "def problem2(groups : TensorType[\"i\", bool], \n",
        "             values : TensorType[\"i\"]\n",
        "             )->TensorType[\"i\"]:\n",
        "    return values @ torch.eye(groups.shape[0], dtype=int)[groups.cumsum(0)-1] \n",
        "\n",
        "make_test(problem2, problem2_spec)()"
      ],
      "metadata": {
        "id": "bxkYlXGznAna"
      },
      "execution_count": null,
      "outputs": []
    },
    {
      "cell_type": "code",
      "source": [
        ""
      ],
      "metadata": {
        "id": "oW9Cu6Ue1EIL"
      },
      "execution_count": null,
      "outputs": []
    },
    {
      "cell_type": "markdown",
      "source": [
        "## Who needs libraries?"
      ],
      "metadata": {
        "id": "_9Gxx2s81Er6"
      }
    },
    {
      "cell_type": "markdown",
      "source": [
        "## Puzzle 4 - diag\n",
        "\n",
        "Grab the diagonal elements of a batch of square matrices"
      ],
      "metadata": {
        "id": "GBH2ghpm1JN0"
      }
    },
    {
      "cell_type": "code",
      "source": [
        "def problem4_spec(a, out):\n",
        "    for i in range(len(a)):\n",
        "        for j in range(len(a)):\n",
        "            out[i, j] = a[i, j, j]"
      ],
      "metadata": {
        "id": "PnF5UY8y1IFc"
      },
      "execution_count": null,
      "outputs": []
    },
    {
      "cell_type": "code",
      "source": [
        "def problem4(a : TensorType[\"i\", \"j\", \"j\"] \n",
        "             )->TensorType[\"i\", \"j\"]:\n",
        "    js = torch.arange(a.shape[1])\n",
        "    return a[:, js, js]\n",
        "    \n",
        "make_test(problem4, problem4_spec)()"
      ],
      "metadata": {
        "colab": {
          "base_uri": "https://localhost:8080/",
          "height": 270
        },
        "id": "Ngz31ZA01ttN",
        "outputId": "39ec15fb-30c8-4951-8e73-3994f6cc387d"
      },
      "execution_count": null,
      "outputs": [
        {
          "output_type": "error",
          "ename": "NameError",
          "evalue": "ignored",
          "traceback": [
            "\u001b[0;31m---------------------------------------------------------------------------\u001b[0m",
            "\u001b[0;31mNameError\u001b[0m                                 Traceback (most recent call last)",
            "\u001b[0;32m<ipython-input-1-2a4eba9cacdc>\u001b[0m in \u001b[0;36m<module>\u001b[0;34m()\u001b[0m\n\u001b[0;32m----> 1\u001b[0;31m def problem4(a : TensorType[\"i\", \"j\", \"j\"] \n\u001b[0m\u001b[1;32m      2\u001b[0m              )->TensorType[\"i\", \"j\"]:\n\u001b[1;32m      3\u001b[0m     return a[:, torch.arange(a.shape[1]), \n\u001b[1;32m      4\u001b[0m                 torch.arange(a.shape[1])]\n\u001b[1;32m      5\u001b[0m \u001b[0;34m\u001b[0m\u001b[0m\n",
            "\u001b[0;31mNameError\u001b[0m: name 'TensorType' is not defined"
          ]
        }
      ]
    },
    {
      "cell_type": "markdown",
      "source": [
        "## Puzzle 5 - eyes_like\n",
        "\n"
      ],
      "metadata": {
        "id": "Ru9O-3HR2DPx"
      }
    },
    {
      "cell_type": "code",
      "source": [
        "def problem5_spec(ignore, out):\n",
        "    for i in range(len(a)):\n",
        "        out[i, i] = 1"
      ],
      "metadata": {
        "id": "okyziZU92DPz"
      },
      "execution_count": null,
      "outputs": []
    },
    {
      "cell_type": "code",
      "source": [
        "def problem5(ignore : TensorType[\"i\", \"i\"] \n",
        "             )->TensorType[\"i\", \"i\"]:\n",
        "    is = torch.arange(a.shape[0])\n",
        "    return np.where(is[:, None] == is[None, :], 1, 0)\n",
        "\n",
        "make_test(problem5, problem5_spec)()"
      ],
      "metadata": {
        "colab": {
          "base_uri": "https://localhost:8080/",
          "height": 270
        },
        "outputId": "39ec15fb-30c8-4951-8e73-3994f6cc387d",
        "id": "Y83VJaLH2DP0"
      },
      "execution_count": null,
      "outputs": [
        {
          "output_type": "error",
          "ename": "NameError",
          "evalue": "ignored",
          "traceback": [
            "\u001b[0;31m---------------------------------------------------------------------------\u001b[0m",
            "\u001b[0;31mNameError\u001b[0m                                 Traceback (most recent call last)",
            "\u001b[0;32m<ipython-input-1-2a4eba9cacdc>\u001b[0m in \u001b[0;36m<module>\u001b[0;34m()\u001b[0m\n\u001b[0;32m----> 1\u001b[0;31m def problem4(a : TensorType[\"i\", \"j\", \"j\"] \n\u001b[0m\u001b[1;32m      2\u001b[0m              )->TensorType[\"i\", \"j\"]:\n\u001b[1;32m      3\u001b[0m     return a[:, torch.arange(a.shape[1]), \n\u001b[1;32m      4\u001b[0m                 torch.arange(a.shape[1])]\n\u001b[1;32m      5\u001b[0m \u001b[0;34m\u001b[0m\u001b[0m\n",
            "\u001b[0;31mNameError\u001b[0m: name 'TensorType' is not defined"
          ]
        }
      ]
    },
    {
      "cell_type": "markdown",
      "source": [
        "## Puzzle 6 - triu_like\n",
        "\n"
      ],
      "metadata": {
        "id": "Xg53MIlG3mae"
      }
    },
    {
      "cell_type": "code",
      "source": [
        "def problem6_spec(ignore, out):\n",
        "    for i in range(len(out)):\n",
        "        for j in range(len(out)):\n",
        "            if i > j:\n",
        "                out[i, j] = 1\n",
        "            else:\n",
        "                out[i, j] = 0"
      ],
      "metadata": {
        "id": "9mif2Bcn3mbC"
      },
      "execution_count": null,
      "outputs": []
    },
    {
      "cell_type": "code",
      "source": [
        "def problem6(ignore : TensorType[\"i\", \"i\"] \n",
        "             )->TensorType[\"i\", \"i\"]:\n",
        "    is = torch.arange(a.shape[0])\n",
        "    return np.where(is[:, None] > is[None, :], 1, 0)\n",
        "\n",
        "make_test(problem6, problem6_spec)()"
      ],
      "metadata": {
        "colab": {
          "base_uri": "https://localhost:8080/",
          "height": 270
        },
        "outputId": "39ec15fb-30c8-4951-8e73-3994f6cc387d",
        "id": "IPURIvMS3mbD"
      },
      "execution_count": null,
      "outputs": [
        {
          "output_type": "error",
          "ename": "NameError",
          "evalue": "ignored",
          "traceback": [
            "\u001b[0;31m---------------------------------------------------------------------------\u001b[0m",
            "\u001b[0;31mNameError\u001b[0m                                 Traceback (most recent call last)",
            "\u001b[0;32m<ipython-input-1-2a4eba9cacdc>\u001b[0m in \u001b[0;36m<module>\u001b[0;34m()\u001b[0m\n\u001b[0;32m----> 1\u001b[0;31m def problem4(a : TensorType[\"i\", \"j\", \"j\"] \n\u001b[0m\u001b[1;32m      2\u001b[0m              )->TensorType[\"i\", \"j\"]:\n\u001b[1;32m      3\u001b[0m     return a[:, torch.arange(a.shape[1]), \n\u001b[1;32m      4\u001b[0m                 torch.arange(a.shape[1])]\n\u001b[1;32m      5\u001b[0m \u001b[0;34m\u001b[0m\u001b[0m\n",
            "\u001b[0;31mNameError\u001b[0m: name 'TensorType' is not defined"
          ]
        }
      ]
    },
    {
      "cell_type": "markdown",
      "source": [
        "## Puzzle 7 - vstack\n",
        "\n"
      ],
      "metadata": {
        "id": "V9vYm9Y338Xv"
      }
    },
    {
      "cell_type": "code",
      "source": [
        "def problem7_spec(a, b, out):\n",
        "    for i in range(len(out)):\n",
        "        out[0, i] = a[i]\n",
        "        out[1, i] = b[i] "
      ],
      "metadata": {
        "id": "tiAc6nDf38Xw"
      },
      "execution_count": null,
      "outputs": []
    },
    {
      "cell_type": "code",
      "source": [
        "def problem7(a : TensorType[\"i\"]\n",
        "             b : TensorType[\"i\"] \n",
        "             )->TensorType[2, \"i\"]:\n",
        "    return torch.where(torch.arange(2)[:, None] > 0 , \n",
        "                       a[None], b[None])\n",
        " \n",
        "make_test(problem7, problem7_spec)()"
      ],
      "metadata": {
        "colab": {
          "base_uri": "https://localhost:8080/",
          "height": 131
        },
        "outputId": "242f5e07-f842-4641-f46a-ec31127a41a1",
        "id": "IIuW7xlO38Xy"
      },
      "execution_count": null,
      "outputs": [
        {
          "output_type": "error",
          "ename": "SyntaxError",
          "evalue": "ignored",
          "traceback": [
            "\u001b[0;36m  File \u001b[0;32m\"<ipython-input-3-43c2175d9934>\"\u001b[0;36m, line \u001b[0;32m2\u001b[0m\n\u001b[0;31m    b : TensorType[\"i\"]\u001b[0m\n\u001b[0m    ^\u001b[0m\n\u001b[0;31mSyntaxError\u001b[0m\u001b[0;31m:\u001b[0m invalid syntax\n"
          ]
        }
      ]
    },
    {
      "cell_type": "markdown",
      "source": [
        "## Puzzle 7 - roll\n",
        "\n"
      ],
      "metadata": {
        "id": "YoH4uva-6KOV"
      }
    },
    {
      "cell_type": "code",
      "source": [
        "def problem7_spec(a, b, out):\n",
        "    for i in range(len(out)):\n",
        "        out[0, i] = a[i]\n",
        "        out[1, i] = b[i] "
      ],
      "metadata": {
        "id": "JScZ89pz6KOX"
      },
      "execution_count": null,
      "outputs": []
    },
    {
      "cell_type": "code",
      "source": [
        "def problem7(a : TensorType[\"i\"]\n",
        "             b : TensorType[\"i\"] \n",
        "             )->TensorType[2, \"i\"]:\n",
        "    return torch.where(torch.arange(2)[:, None] > 0 , \n",
        "                       a[None], b[None])\n",
        " \n",
        "make_test(problem7, problem7_spec)()"
      ],
      "metadata": {
        "colab": {
          "base_uri": "https://localhost:8080/",
          "height": 131
        },
        "outputId": "242f5e07-f842-4641-f46a-ec31127a41a1",
        "id": "qmBQt2rL6KOY"
      },
      "execution_count": null,
      "outputs": [
        {
          "output_type": "error",
          "ename": "SyntaxError",
          "evalue": "ignored",
          "traceback": [
            "\u001b[0;36m  File \u001b[0;32m\"<ipython-input-3-43c2175d9934>\"\u001b[0;36m, line \u001b[0;32m2\u001b[0m\n\u001b[0;31m    b : TensorType[\"i\"]\u001b[0m\n\u001b[0m    ^\u001b[0m\n\u001b[0;31mSyntaxError\u001b[0m\u001b[0;31m:\u001b[0m invalid syntax\n"
          ]
        }
      ]
    },
    {
      "cell_type": "markdown",
      "source": [
        ""
      ],
      "metadata": {
        "id": "DN-Kryut6Igx"
      }
    },
    {
      "cell_type": "code",
      "source": [
        ""
      ],
      "metadata": {
        "id": "vpkEGeFq6G6F"
      },
      "execution_count": null,
      "outputs": []
    }
  ]
}