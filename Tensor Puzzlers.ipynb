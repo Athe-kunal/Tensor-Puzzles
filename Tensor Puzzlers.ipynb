{
 "cells": [
  {
   "cell_type": "markdown",
   "id": "090b0823",
   "metadata": {},
   "source": [
    "# Tensor Puzzles\n",
    "- by [Sasha Rush](http://rush-nlp.com) ( [@srush_nlp](https://twitter.com/srush_nlp) )\n",
    "\n",
    "\n",
    "[![Open In Colab](https://colab.research.google.com/assets/colab-badge.svg)](https://colab.research.google.com/github/srush/Tensor-Puzzles/blob/main/Tensor%20Puzzlers.ipynb)\n",
    "\n",
    "\n",
    "\n",
    "When learning a tensor programming language like PyTorch or Numpy it\n",
    "is tempting to rely on the standard library (or more honestly\n",
    "StackOverflow) to find a magic function for everything.  But in\n",
    "practice, the tensor language is extremely expressive, and you can\n",
    "do most things from first principles and clever use of broadcasting.\n",
    "\n",
    "\n",
    "\n",
    "This is a collection of 16 tensor puzzles. Like chess puzzles these are\n",
    "not meant to simulate the complexity of a real program, but to practice\n",
    "in a simplified environment. Each puzzle asks you to reimplement one\n",
    "function in the NumPy standard library without magic. \n",
    "\n",
    "![](https://raw.githubusercontent.com/srush/Tensor-Puzzles/main/chess.jpeg)\n",
    "\n",
    "* [Puzzle 1 - ones](#puzzle-1---ones).\n",
    "* [Puzzle 2 - sum](#puzzle-2---sum).\n",
    "* [Puzzle 3 - outer](#puzzle-3---outer).\n",
    "* [Puzzle 4 - diag](#puzzle-4---diag).\n",
    "* [Puzzle 5 - eye](#puzzle-5---eye).\n",
    "* [Puzzle 6 - triu](#puzzle-6---triu).\n",
    "* [Puzzle 7 - cumsum](#puzzle-7---cumsum).\n",
    "* [Puzzle 8 - diff](#puzzle-8---diff).\n",
    "* [Puzzle 9 - vstack](#puzzle-9---vstack).\n",
    "* [Puzzle 10 - roll](#puzzle-10---roll).\n",
    "* [Puzzle 11 - flip](#puzzle-11---flip).\n",
    "* [Puzzle 12 - compress](#puzzle-12---compress).\n",
    "* [Puzzle 13 - pad_to](#puzzle-13---pad_to).\n",
    "* [Puzzle 14 - sequence_mask](#puzzle-14---sequence_mask).\n",
    "* [Puzzle 15 - bincount](#puzzle-15---bincount).\n",
    "* [Puzzle 16 - scatter_add](#puzzle-16---scatter_add).\n",
    "\n",
    "\n",
    "## Rules\n",
    "\n",
    "1. Each can be solved in 1 line (<80 columns) of code.\n",
    "2. You are allowed  @, *, ==, <=, `shape`, indexing, and previous puzzle functions.\n",
    "3. Additionally you are allowed these two functions:"
   ]
  },
  {
   "cell_type": "code",
   "execution_count": null,
   "id": "af472825",
   "metadata": {
    "lines_to_next_cell": 2
   },
   "outputs": [],
   "source": [
    "import torch\n",
    "\n",
    "\n",
    "def arange(i: int):\n",
    "    \"Think for-loop\"\n",
    "    return torch.tensor(range(i))\n",
    "\n",
    "\n",
    "def where(q, a, b):\n",
    "    \"Think if-statement\"\n",
    "    return (q * a) + (~q) * b"
   ]
  },
  {
   "cell_type": "markdown",
   "id": "d5ad9b91",
   "metadata": {},
   "source": [
    "\n",
    "### Anti-Rules\n",
    "\n",
    "1. Nothing else. No `view`, `sum`, `take`, `squeeze`, `tensor`.\n",
    "2. No cheating. Stackoverflow is great, but this is about first-principles.\n",
    "\n",
    "\n",
    "## Running puzzles\n",
    "\n",
    "Each example, corresponds to a unit test which will randomly\n",
    "try to break your code based on the spec. The spec is written in\n",
    "standard python with lists.\n",
    "\n",
    "To play, fork this repo,\n",
    "\n",
    "```bash\n",
    "pip install -r requirements.txt\n",
    "pytest test_puzzles.py\n",
    "```\n",
    "\n",
    "Alternatively you can play in Colab above or in a notebook on your machine.\n",
    "\n",
    "[![Open In Colab](https://colab.research.google.com/assets/colab-badge.svg)](https://colab.research.google.com/github/srush/Tensor-Puzzles/blob/main/Tensor%20Puzzlers.ipynb)\n",
    "\n",
    "If you are runing in a notebook, just uncomment the test for each example.\n",
    "If the test succeeds you will get a puppy. \n",
    "\n",
    "[Start at Puzzle 1!](#puzzle-1---ones).\n",
    "\n",
    "\n",
    "\n",
    "### Test Harness"
   ]
  },
  {
   "cell_type": "code",
   "execution_count": null,
   "id": "1b3103a4",
   "metadata": {},
   "outputs": [],
   "source": [
    "!pip install -qqq torchtyping hypothesis pytest"
   ]
  },
  {
   "cell_type": "code",
   "execution_count": null,
   "id": "98d05155",
   "metadata": {
    "lines_to_next_cell": 1
   },
   "outputs": [],
   "source": [
    "\n",
    "import typing\n",
    "from torchtyping import TensorType as TT\n",
    "from hypothesis.extra.numpy import arrays\n",
    "from hypothesis.strategies import integers, tuples, composite, floats\n",
    "from hypothesis import given\n",
    "import numpy as np\n",
    "import random\n",
    "\n",
    "\n",
    "size = integers(min_value=1, max_value=5)\n",
    "\n",
    "tensor = torch.tensor\n",
    "\n",
    "numpy_to_torch_dtype_dict = {\n",
    "    bool: torch.bool,\n",
    "    np.uint8: torch.uint8,\n",
    "    np.int8: torch.int8,\n",
    "    np.int16: torch.int16,\n",
    "    np.int32: torch.int32,\n",
    "    np.int64: torch.int64,\n",
    "    np.float16: torch.float16,\n",
    "    np.float32: torch.float32,\n",
    "    np.float64: torch.float64,\n",
    "}\n",
    "torch_to_numpy_dtype_dict = {v: k for k, v in numpy_to_torch_dtype_dict.items()}\n",
    "\n",
    "\n",
    "@composite\n",
    "def spec(draw, x):\n",
    "\n",
    "    names = set()\n",
    "    gth = typing.get_type_hints(x)\n",
    "    for k in gth:\n",
    "        if not hasattr(gth[k], \"__metadata__\"):\n",
    "            continue\n",
    "        dims = gth[k].__metadata__[0][\"details\"][0].dims\n",
    "        names.update([d.name for d in dims if isinstance(d.name, str)])\n",
    "    names = list(names)\n",
    "    arr = draw(tuples(*[size for _ in range(len(names))]))\n",
    "    sizes = dict(zip(names, arr))\n",
    "    ret = {}\n",
    "\n",
    "    for k in gth:\n",
    "        if not hasattr(gth[k], \"__metadata__\"):\n",
    "            continue\n",
    "        shape = tuple(\n",
    "            [\n",
    "                sizes[d.name] if isinstance(d.name, str) else d.size\n",
    "                for d in gth[k].__metadata__[0][\"details\"][0].dims\n",
    "            ]\n",
    "        )\n",
    "        ret[k] = draw(\n",
    "            arrays(\n",
    "                shape=shape,\n",
    "                dtype=torch_to_numpy_dtype_dict[\n",
    "                    gth[k].__metadata__[0][\"details\"][1].dtype\n",
    "                ]\n",
    "                if len(gth[k].__metadata__[0][\"details\"]) >= 2\n",
    "                else int,\n",
    "            )\n",
    "        )\n",
    "        ret[k][ret[k] > 1000] = 1000\n",
    "        ret[k][ret[k] < -1000] = -1000\n",
    "        ret[k] = np.nan_to_num(ret[k], nan=0, neginf=0, posinf=0)\n",
    "\n",
    "    ret[\"return\"][:] = 0\n",
    "    return ret, sizes\n",
    "\n",
    "\n",
    "def make_test(problem, problem_spec, add_sizes=[], constraint=lambda d: d):\n",
    "    @given(spec(problem))\n",
    "    def test_problem(d):\n",
    "        d, sizes = d\n",
    "        d = constraint(d)\n",
    "        out = d[\"return\"].tolist()\n",
    "        del d[\"return\"]\n",
    "        problem_spec(*d.values(), out)\n",
    "        for size in add_sizes:\n",
    "            d[size] = sizes[size]\n",
    "\n",
    "        out2 = problem(*map(tensor, d.values()))\n",
    "        out = tensor(out)\n",
    "        out2 = torch.broadcast_to(out2, out.shape)\n",
    "        assert torch.equal(\n",
    "            out, out2\n",
    "        ), \"Two tensors are not equal\\n Spec: \\n\\t%s \\n\\t%s\" % (out, out2)\n",
    "\n",
    "    return test_problem\n",
    "\n",
    "def run_test(fn):\n",
    "    fn()\n",
    "    # Generate a random puppy video if you are correct.\n",
    "    print(\"Correct!\")\n",
    "    from IPython.display import HTML\n",
    "    pups = [\n",
    "    \"2m78jPG\",\n",
    "    \"pn1e9TO\",\n",
    "    \"MQCIwzT\",\n",
    "    \"udLK6FS\",\n",
    "    \"ZNem5o3\",\n",
    "    \"DS2IZ6K\",\n",
    "    \"aydRUz8\",\n",
    "    \"MVUdQYK\",\n",
    "    \"kLvno0p\",\n",
    "    \"wScLiVz\",\n",
    "    \"Z0TII8i\",\n",
    "    \"F1SChho\",\n",
    "    \"9hRi2jN\",\n",
    "    \"lvzRF3W\",\n",
    "    \"fqHxOGI\",\n",
    "    \"1xeUYme\",\n",
    "    \"6tVqKyM\",\n",
    "    \"CCxZ6Wr\",\n",
    "    \"lMW0OPQ\",\n",
    "    \"wHVpHVG\",\n",
    "    \"Wj2PGRl\",\n",
    "    \"HlaTE8H\",\n",
    "    \"k5jALH0\",\n",
    "    \"3V37Hqr\",\n",
    "    \"Eq2uMTA\",\n",
    "    \"Vy9JShx\",\n",
    "    \"g9I2ZmK\",\n",
    "    \"Nu4RH7f\",\n",
    "    \"sWp0Dqd\",\n",
    "    \"bRKfspn\",\n",
    "    \"qawCMl5\",\n",
    "    \"2F6j2B4\",\n",
    "    \"fiJxCVA\",\n",
    "    \"pCAIlxD\",\n",
    "    \"zJx2skh\",\n",
    "    \"2Gdl1u7\",\n",
    "    \"aJJAY4c\",\n",
    "    \"ros6RLC\",\n",
    "    \"DKLBJh7\",\n",
    "    \"eyxH0Wc\",\n",
    "    \"rJEkEw4\"]\n",
    "    return HTML(\"\"\"\n",
    "    <video alt=\"test\" controls autoplay=1>\n",
    "        <source src=\"https://openpuppies.com/mp4/%s.mp4\"  type=\"video/mp4\">\n",
    "    </video>\n",
    "    \"\"\"%(random.sample(pups, 1)[0]))"
   ]
  },
  {
   "cell_type": "markdown",
   "id": "af65e959",
   "metadata": {},
   "source": [
    "## Puzzle 1 - ones\n",
    "\n",
    "Compute [ones](https://numpy.org/doc/stable/reference/generated/numpy.ones.html) - the vector of all ones."
   ]
  },
  {
   "cell_type": "code",
   "execution_count": null,
   "id": "8c252cf3",
   "metadata": {},
   "outputs": [],
   "source": [
    "def ones_spec(out):\n",
    "    for i in range(len(out)):\n",
    "        out[i] = 1"
   ]
  },
  {
   "cell_type": "code",
   "execution_count": null,
   "id": "18e66be8",
   "metadata": {
    "lines_to_next_cell": 2
   },
   "outputs": [],
   "source": [
    "def ones(i: int) -> TT[\"i\"]:\n",
    "    assert False, 'Not implemented yet.'\n",
    "\n",
    "\n",
    "test_ones = make_test(ones, ones_spec, add_sizes=[\"i\"])\n",
    "# run_test(test_ones)"
   ]
  },
  {
   "cell_type": "markdown",
   "id": "34ee041e",
   "metadata": {},
   "source": [
    "## Puzzle 2 - sum\n",
    "\n",
    "Compute [sum](https://numpy.org/doc/stable/reference/generated/numpy.sum.html) - the sum of a vector."
   ]
  },
  {
   "cell_type": "code",
   "execution_count": null,
   "id": "d0e03ee8",
   "metadata": {},
   "outputs": [],
   "source": [
    "def sum_spec(a, out):\n",
    "    out[0] = 0\n",
    "    for i in range(len(a)):\n",
    "        out[0] += a[i]"
   ]
  },
  {
   "cell_type": "code",
   "execution_count": null,
   "id": "2c445b4d",
   "metadata": {
    "lines_to_next_cell": 2
   },
   "outputs": [],
   "source": [
    "def sum(a: TT[\"i\"]) -> TT[1]:\n",
    "    assert False, 'Not implemented yet.'\n",
    "\n",
    "\n",
    "test_sum = make_test(sum, sum_spec)\n",
    "# run_test(test_sum)"
   ]
  },
  {
   "cell_type": "markdown",
   "id": "e07357ad",
   "metadata": {},
   "source": [
    "## Puzzle 3 - outer\n",
    "\n",
    "Compute [outer](https://numpy.org/doc/stable/reference/generated/numpy.outer.html) - the outer product of two vectors."
   ]
  },
  {
   "cell_type": "code",
   "execution_count": null,
   "id": "648c7b52",
   "metadata": {},
   "outputs": [],
   "source": [
    "def outer_spec(a, b, out):\n",
    "    for i in range(len(out)):\n",
    "        for j in range(len(out[0])):\n",
    "            out[i][j] = a[i] * b[j]"
   ]
  },
  {
   "cell_type": "code",
   "execution_count": null,
   "id": "9651650f",
   "metadata": {
    "lines_to_next_cell": 2
   },
   "outputs": [],
   "source": [
    "def outer(a: TT[\"i\"], b: TT[\"j\"]) -> TT[\"i\", \"j\"]:\n",
    "    assert False, 'Not implemented yet.'\n",
    "\n",
    "\n",
    "test_outer = make_test(outer, outer_spec)\n",
    "# run_test(test_outer)"
   ]
  },
  {
   "cell_type": "markdown",
   "id": "af08a369",
   "metadata": {},
   "source": [
    "## Puzzle 4 - diag\n",
    "\n",
    "Compute [diag](https://numpy.org/doc/stable/reference/generated/numpy.diag.html) - the diagonal vector of a square matrix."
   ]
  },
  {
   "cell_type": "code",
   "execution_count": null,
   "id": "a9dabbf1",
   "metadata": {},
   "outputs": [],
   "source": [
    "def diag_spec(a, out):\n",
    "    for i in range(len(a)):\n",
    "        out[i] = a[i][i]"
   ]
  },
  {
   "cell_type": "code",
   "execution_count": null,
   "id": "ca29fc29",
   "metadata": {},
   "outputs": [],
   "source": [
    "def diag(a: TT[\"i\", \"i\"]) -> TT[\"i\"]:\n",
    "    assert False, 'Not implemented yet.'\n",
    "\n",
    "\n",
    "test_diag = make_test(diag, diag_spec)\n",
    "# run_test(test_diag)"
   ]
  },
  {
   "cell_type": "markdown",
   "id": "5224c2c1",
   "metadata": {},
   "source": [
    "## Puzzle 5 - eye\n",
    "\n",
    "Compute [eye](https://numpy.org/doc/stable/reference/generated/numpy.eye.html) - the identity matrix."
   ]
  },
  {
   "cell_type": "code",
   "execution_count": null,
   "id": "5ab278d6",
   "metadata": {},
   "outputs": [],
   "source": [
    "def eye_spec(out):\n",
    "    for i in range(len(out)):\n",
    "        out[i][i] = 1"
   ]
  },
  {
   "cell_type": "code",
   "execution_count": null,
   "id": "2e5cae3c",
   "metadata": {},
   "outputs": [],
   "source": [
    "def eye(j: int) -> TT[\"j\", \"j\"]:\n",
    "    assert False, 'Not implemented yet.'"
   ]
  },
  {
   "cell_type": "code",
   "execution_count": null,
   "id": "803e59c8",
   "metadata": {},
   "outputs": [],
   "source": [
    "test_eye = make_test(eye, eye_spec, add_sizes=[\"j\"])\n",
    "# run_test(test_eye)"
   ]
  },
  {
   "cell_type": "markdown",
   "id": "1e1ec037",
   "metadata": {},
   "source": [
    "## Puzzle 6 - triu\n",
    "\n",
    "Compute [triu](https://numpy.org/doc/stable/reference/generated/numpy.triu.html) - the upper triangular matrix."
   ]
  },
  {
   "cell_type": "code",
   "execution_count": null,
   "id": "369c38e7",
   "metadata": {},
   "outputs": [],
   "source": [
    "def triu_spec(out):\n",
    "    for i in range(len(out)):\n",
    "        for j in range(len(out)):\n",
    "            if i <= j:\n",
    "                out[i][j] = 1\n",
    "            else:\n",
    "                out[i][j] = 0"
   ]
  },
  {
   "cell_type": "code",
   "execution_count": null,
   "id": "394a9fd2",
   "metadata": {},
   "outputs": [],
   "source": [
    "def triu(j: int) -> TT[\"j\", \"j\"]:\n",
    "    assert False, 'Not implemented yet.'\n",
    "\n",
    "\n",
    "test_triu = make_test(triu, triu_spec, add_sizes=[\"j\"])\n",
    "# run_test(test_triu)"
   ]
  },
  {
   "cell_type": "markdown",
   "id": "f68f326f",
   "metadata": {},
   "source": [
    "## Puzzle 7 - cumsum\n",
    "\n",
    "Compute [cumsum](https://numpy.org/doc/stable/reference/generated/numpy.cumsum.html) - the cumulative sum."
   ]
  },
  {
   "cell_type": "code",
   "execution_count": null,
   "id": "cb30413d",
   "metadata": {},
   "outputs": [],
   "source": [
    "def cumsum_spec(a, out):\n",
    "    total = 0\n",
    "    for i in range(len(out)):\n",
    "        out[i] = total + a[i]\n",
    "        total += a[i]"
   ]
  },
  {
   "cell_type": "code",
   "execution_count": null,
   "id": "0849ed08",
   "metadata": {
    "lines_to_next_cell": 2
   },
   "outputs": [],
   "source": [
    "def cumsum(a: TT[\"i\"]) -> TT[\"i\"]:\n",
    "    assert False, 'Not implemented yet.'\n",
    "\n",
    "\n",
    "test_cumsum = make_test(cumsum, cumsum_spec)\n",
    "# run_test(test_cumsum)"
   ]
  },
  {
   "cell_type": "markdown",
   "id": "477c4e90",
   "metadata": {},
   "source": [
    "## Puzzle 8 - diff\n",
    "\n",
    "Compute [diff](https://numpy.org/doc/stable/reference/generated/numpy.diff.html) - the running difference."
   ]
  },
  {
   "cell_type": "code",
   "execution_count": null,
   "id": "4f7e8923",
   "metadata": {},
   "outputs": [],
   "source": [
    "def diff_spec(a, out):\n",
    "    out[0] = a[0]\n",
    "    for i in range(1, len(out)):\n",
    "        out[i] = a[i] - a[i - 1]"
   ]
  },
  {
   "cell_type": "code",
   "execution_count": null,
   "id": "4b633eab",
   "metadata": {},
   "outputs": [],
   "source": [
    "def diff(a: TT[\"i\"], i: int) -> TT[\"i\"]:\n",
    "    assert False, 'Not implemented yet.'\n",
    "\n",
    "\n",
    "test_diff = make_test(diff, diff_spec, add_sizes=[\"i\"])\n",
    "# run_test(test_diff)"
   ]
  },
  {
   "cell_type": "markdown",
   "id": "e8abd2a9",
   "metadata": {},
   "source": [
    "## Puzzle 9 - vstack\n",
    "\n",
    "Compute [vstack](https://numpy.org/doc/stable/reference/generated/numpy.vstack.html) - the matrix of two vectors"
   ]
  },
  {
   "cell_type": "code",
   "execution_count": null,
   "id": "07b76b95",
   "metadata": {},
   "outputs": [],
   "source": [
    "def vstack_spec(a, b, out):\n",
    "    for i in range(len(out[0])):\n",
    "        out[0][i] = a[i]\n",
    "        out[1][i] = b[i]"
   ]
  },
  {
   "cell_type": "code",
   "execution_count": null,
   "id": "3e1a6a9d",
   "metadata": {},
   "outputs": [],
   "source": [
    "def vstack(a: TT[\"i\"], b: TT[\"i\"]) -> TT[2, \"i\"]:\n",
    "    assert False, 'Not implemented yet.'\n",
    "\n",
    "\n",
    "test_vstack = make_test(vstack, vstack_spec)\n",
    "# run_test(test_vstack)"
   ]
  },
  {
   "cell_type": "markdown",
   "id": "2b1688c6",
   "metadata": {},
   "source": [
    "## Puzzle 10 - roll\n",
    "\n",
    "Compute [roll](https://numpy.org/doc/stable/reference/generated/numpy.roll.html) - the vector shifted 1 circular position."
   ]
  },
  {
   "cell_type": "code",
   "execution_count": null,
   "id": "50d542e2",
   "metadata": {},
   "outputs": [],
   "source": [
    "def roll_spec(a, out):\n",
    "    for i in range(len(out)):\n",
    "        if i + 1 < len(out):\n",
    "            out[i] = a[i + 1]\n",
    "        else:\n",
    "            out[i] = a[i + 1 - len(out)]"
   ]
  },
  {
   "cell_type": "code",
   "execution_count": null,
   "id": "d7cb8940",
   "metadata": {},
   "outputs": [],
   "source": [
    "def roll(a: TT[\"i\"], i: int) -> TT[\"i\"]:\n",
    "    assert False, 'Not implemented yet.'\n",
    "\n",
    "\n",
    "test_roll = make_test(roll, roll_spec, add_sizes=[\"i\"])\n",
    "# run_test(test_roll)"
   ]
  },
  {
   "cell_type": "markdown",
   "id": "1f762abe",
   "metadata": {},
   "source": [
    "## Puzzle 11 - flip\n",
    "\n",
    "Compute [flip](https://numpy.org/doc/stable/reference/generated/numpy.flip.html) - the reversed vector"
   ]
  },
  {
   "cell_type": "code",
   "execution_count": null,
   "id": "aebdf469",
   "metadata": {},
   "outputs": [],
   "source": [
    "def flip_spec(a, out):\n",
    "    for i in range(len(out)):\n",
    "        out[i] = a[len(out) - i - 1]"
   ]
  },
  {
   "cell_type": "code",
   "execution_count": null,
   "id": "e00a8fca",
   "metadata": {},
   "outputs": [],
   "source": [
    "def flip(a: TT[\"i\"], i: int) -> TT[\"i\"]:\n",
    "    assert False, 'Not implemented yet.'\n",
    "\n",
    "\n",
    "test_flip = make_test(flip, flip_spec, add_sizes=[\"i\"])\n",
    "# run_test(test_flip)"
   ]
  },
  {
   "cell_type": "markdown",
   "id": "27f2d634",
   "metadata": {},
   "source": [
    "## Puzzle 12 - compress\n",
    "\n",
    "\n",
    "Compute [compress](https://numpy.org/doc/stable/reference/generated/numpy.flip.html) - keep only masked entries (left-aligned)."
   ]
  },
  {
   "cell_type": "code",
   "execution_count": null,
   "id": "471ef74e",
   "metadata": {},
   "outputs": [],
   "source": [
    "def compress_spec(g, v, out):\n",
    "    j = 0\n",
    "    for i in range(len(g)):\n",
    "        if g[i]:\n",
    "            out[j] = v[i]\n",
    "            j += 1"
   ]
  },
  {
   "cell_type": "code",
   "execution_count": null,
   "id": "6b31c460",
   "metadata": {
    "lines_to_next_cell": 2
   },
   "outputs": [],
   "source": [
    "def compress(g: TT[\"i\", bool], v: TT[\"i\"], i:int) -> TT[\"i\"]:\n",
    "    assert False, 'Not implemented yet.'\n",
    "\n",
    "\n",
    "test_compress = make_test(compress, compress_spec, add_sizes=[\"i\"])\n",
    "# run_test(test_compress)"
   ]
  },
  {
   "cell_type": "markdown",
   "id": "3baac225",
   "metadata": {
    "lines_to_next_cell": 2
   },
   "source": [
    "## Puzzle 13 - pad_to\n",
    "\n",
    "\n",
    "Compute pad_to - eliminate or add 0s to change size of vector."
   ]
  },
  {
   "cell_type": "code",
   "execution_count": null,
   "id": "517fa7ca",
   "metadata": {
    "id": "-DsZHgOTroVN",
    "lines_to_next_cell": 2
   },
   "outputs": [],
   "source": [
    "def pad_to_spec(a, out):\n",
    "    for i in range(min(len(out), len(a))):\n",
    "        out[i] = a[i]\n",
    "\n",
    "\n",
    "def pad_to(a: TT[\"i\"], i: int, j: int) -> TT[\"j\"]:\n",
    "    assert False, 'Not implemented yet.'\n",
    "\n",
    "\n",
    "test_pad_to = make_test(pad_to, pad_to_spec, add_sizes=[\"i\", \"j\"])\n",
    "# run_test(test_pad_to)"
   ]
  },
  {
   "cell_type": "markdown",
   "id": "f46deb74",
   "metadata": {},
   "source": [
    "## Puzzle 14 - sequence_mask\n",
    "\n",
    "\n",
    "Compute [sequence_mask](https://www.tensorflow.org/api_docs/python/tf/sequence_mask) - pad out to length per batch."
   ]
  },
  {
   "cell_type": "code",
   "execution_count": null,
   "id": "b6610e04",
   "metadata": {},
   "outputs": [],
   "source": [
    "def sequence_mask_spec(values, length, out):\n",
    "    for i in range(len(out)):\n",
    "        for j in range(len(out[0])):\n",
    "            if j < length[i]:\n",
    "                out[i][j] = values[i][j]\n",
    "            else:\n",
    "                out[i][j] = 0"
   ]
  },
  {
   "cell_type": "code",
   "execution_count": null,
   "id": "b0b5caaf",
   "metadata": {
    "lines_to_next_cell": 2
   },
   "outputs": [],
   "source": [
    "def sequence_mask(values: TT[\"i\", \"j\"], length: TT[\"i\", int]) -> TT[\"i\", \"j\"]:\n",
    "    assert False, 'Not implemented yet.'\n",
    "\n",
    "\n",
    "def constraint_set_length(d):\n",
    "    d[\"length\"] = d[\"length\"] % d[\"values\"].shape[0]\n",
    "    return d\n",
    "\n",
    "\n",
    "test_sequence = make_test(\n",
    "    sequence_mask, sequence_mask_spec, constraint=constraint_set_length\n",
    ")\n",
    "\n",
    "# run_test(test_sequence)"
   ]
  },
  {
   "cell_type": "markdown",
   "id": "d266194d",
   "metadata": {
    "lines_to_next_cell": 2
   },
   "source": [
    "## Puzzle 15 - bincount\n",
    "\n",
    "Compute [bincount](https://numpy.org/doc/stable/reference/generated/numpy.bincount.html) - count number of times an entry was seen."
   ]
  },
  {
   "cell_type": "code",
   "execution_count": null,
   "id": "7b2de15a",
   "metadata": {},
   "outputs": [],
   "source": [
    "def bincount_spec(a, out):\n",
    "    for i in range(len(a)):\n",
    "        out[a[i]] += 1"
   ]
  },
  {
   "cell_type": "code",
   "execution_count": null,
   "id": "082605c7",
   "metadata": {
    "lines_to_next_cell": 2
   },
   "outputs": [],
   "source": [
    "def bincount(a: TT[\"i\"], j: int) -> TT[\"j\"]:\n",
    "    assert False, 'Not implemented yet.'\n",
    "\n",
    "\n",
    "def constraint_set_max(d):\n",
    "    d[\"a\"] = d[\"a\"] % d[\"return\"].shape[0]\n",
    "    return d\n",
    "\n",
    "\n",
    "test_bincount = make_test(\n",
    "    bincount, bincount_spec, add_sizes=[\"j\"], constraint=constraint_set_max\n",
    ")\n",
    "# run_test(test_bincount)"
   ]
  },
  {
   "cell_type": "markdown",
   "id": "e67c3633",
   "metadata": {
    "lines_to_next_cell": 2
   },
   "source": [
    "## Puzzle 16 - scatter_add\n",
    "\n",
    "Compute `scatter_add` - add togeter values that scatter together."
   ]
  },
  {
   "cell_type": "code",
   "execution_count": null,
   "id": "16a91afc",
   "metadata": {},
   "outputs": [],
   "source": [
    "def scatter_add_spec(values, link, out):\n",
    "    for j in range(len(link)):\n",
    "        out[j] += values[link[j]]"
   ]
  },
  {
   "cell_type": "code",
   "execution_count": null,
   "id": "6102298f",
   "metadata": {},
   "outputs": [],
   "source": [
    "def scatter_add(values: TT[\"i\"], link: TT[\"j\"], j: int) -> TT[\"j\"]:\n",
    "    assert False, 'Not implemented yet.'\n",
    "\n",
    "\n",
    "def constraint_set_max(d):\n",
    "    d[\"link\"] = d[\"link\"] % d[\"values\"].shape[0]\n",
    "    return d\n",
    "\n",
    "\n",
    "test_scatter_add = make_test(\n",
    "    scatter_add, scatter_add_spec, add_sizes=[\"j\"], constraint=constraint_set_max\n",
    ")\n",
    "# run_test(test_scatter_add)"
   ]
  }
 ],
 "metadata": {
  "jupytext": {
   "cell_metadata_filter": "id,-all",
   "main_language": "python",
   "notebook_metadata_filter": "-all"
  }
 },
 "nbformat": 4,
 "nbformat_minor": 5
}
